{
 "cells": [
  {
   "cell_type": "code",
   "execution_count": 1,
   "metadata": {},
   "outputs": [],
   "source": [
    "# Import libraries\n",
    "import numpy as np\n",
    "import pandas as pd\n",
    "from pandas.tseries.offsets import CustomBusinessDay"
   ]
  },
  {
   "cell_type": "code",
   "execution_count": 44,
   "metadata": {},
   "outputs": [],
   "source": [
    "import matplotlib.pyplot as plt\n",
    "import plotly.plotly as py\n",
    "import plotly.graph_objs as go\n",
    "\n",
    "import plotly\n",
    "plotly.tools.set_credentials_file(username='raphaelrrcoelho', api_key='H2lY25XX3A0IkijhzRmA')"
   ]
  },
  {
   "cell_type": "code",
   "execution_count": 3,
   "metadata": {},
   "outputs": [],
   "source": [
    "from modules import io, web, data, risk\n",
    "import pandas_datareader.data as pd_web\n",
    "import quandl\n",
    "\n",
    "# from statsmodels import regression\n",
    "# from scipy.stats import norm\n",
    "# import statsmodels.api as sm\n",
    "\n",
    "# from financial_risk import web, data, risk, io, plot, report"
   ]
  },
  {
   "cell_type": "code",
   "execution_count": 4,
   "metadata": {},
   "outputs": [],
   "source": [
    "br_holidays = io.get_holidays()"
   ]
  },
  {
   "cell_type": "code",
   "execution_count": 5,
   "metadata": {
    "collapsed": true
   },
   "outputs": [],
   "source": [
    "start = pd.datetime.today().date() - CustomBusinessDay(900, holidays=br_holidays) # 252 Business Days Equals * 3 (Years)\n",
    "end = pd.datetime.today().date() - CustomBusinessDay(1, holidays=br_holidays) # Yesterday\n",
    "\n",
    "date_index = pd.date_range(start, end, freq=CustomBusinessDay(holidays=br_holidays))"
   ]
  },
  {
   "cell_type": "code",
   "execution_count": 6,
   "metadata": {},
   "outputs": [],
   "source": [
    "tickers = io.tickers(file='database.xlsx')"
   ]
  },
  {
   "cell_type": "code",
   "execution_count": 7,
   "metadata": {},
   "outputs": [
    {
     "name": "stdout",
     "output_type": "stream",
     "text": [
      "BIDI11\n",
      "SMLE3\n",
      "VALE5\n"
     ]
    },
    {
     "name": "stderr",
     "output_type": "stream",
     "text": [
      "C:\\Users\\Raphael\\Downloads\\hedge-fund-master\\hedge-fund-master\\modules\\web.py:16: FutureWarning:\n",
      "\n",
      "\n",
      "Panel is deprecated and will be removed in a future version.\n",
      "The recommended way to represent these types of 3-dimensional data are with a MultiIndex on a DataFrame, via the Panel.to_frame() method\n",
      "Alternatively, you can use the xarray package http://xarray.pydata.org/en/stable/.\n",
      "Pandas provides a `.to_xarray()` method to help automate this conversion.\n",
      "\n",
      "\n",
      "C:\\Users\\Raphael\\Anaconda3\\lib\\site-packages\\pandas\\core\\indexing.py:1161: FutureWarning:\n",
      "\n",
      "\n",
      "Panel is deprecated and will be removed in a future version.\n",
      "The recommended way to represent these types of 3-dimensional data are with a MultiIndex on a DataFrame, via the Panel.to_frame() method\n",
      "Alternatively, you can use the xarray package http://xarray.pydata.org/en/stable/.\n",
      "Pandas provides a `.to_xarray()` method to help automate this conversion.\n",
      "\n",
      "\n",
      "C:\\Users\\Raphael\\Downloads\\hedge-fund-master\\hedge-fund-master\\modules\\web.py:17: FutureWarning:\n",
      "\n",
      "\n",
      "Passing list-likes to .loc or [] with any missing label will raise\n",
      "KeyError in the future, you can use .reindex() as an alternative.\n",
      "\n",
      "See the documentation here:\n",
      "https://pandas.pydata.org/pandas-docs/stable/indexing.html#deprecate-loc-reindex-listlike\n",
      "\n",
      "C:\\Users\\Raphael\\Anaconda3\\lib\\site-packages\\pandas\\core\\indexing.py:1166: FutureWarning:\n",
      "\n",
      "\n",
      "Panel is deprecated and will be removed in a future version.\n",
      "The recommended way to represent these types of 3-dimensional data are with a MultiIndex on a DataFrame, via the Panel.to_frame() method\n",
      "Alternatively, you can use the xarray package http://xarray.pydata.org/en/stable/.\n",
      "Pandas provides a `.to_xarray()` method to help automate this conversion.\n",
      "\n",
      "\n",
      "C:\\Users\\Raphael\\Anaconda3\\lib\\site-packages\\pandas\\core\\indexing.py:1472: FutureWarning:\n",
      "\n",
      "\n",
      "Passing list-likes to .loc or [] with any missing label will raise\n",
      "KeyError in the future, you can use .reindex() as an alternative.\n",
      "\n",
      "See the documentation here:\n",
      "https://pandas.pydata.org/pandas-docs/stable/indexing.html#deprecate-loc-reindex-listlike\n",
      "\n",
      "C:\\Users\\Raphael\\Anaconda3\\lib\\site-packages\\pandas\\core\\indexing.py:1147: FutureWarning:\n",
      "\n",
      "\n",
      "Panel is deprecated and will be removed in a future version.\n",
      "The recommended way to represent these types of 3-dimensional data are with a MultiIndex on a DataFrame, via the Panel.to_frame() method\n",
      "Alternatively, you can use the xarray package http://xarray.pydata.org/en/stable/.\n",
      "Pandas provides a `.to_xarray()` method to help automate this conversion.\n",
      "\n",
      "\n"
     ]
    }
   ],
   "source": [
    "stocks = web.stocks(tickers, start, end)\n",
    "stocks = stocks[:, date_index, :]"
   ]
  },
  {
   "cell_type": "code",
   "execution_count": 8,
   "metadata": {
    "collapsed": true
   },
   "outputs": [
    {
     "name": "stderr",
     "output_type": "stream",
     "text": [
      "C:\\Users\\Raphael\\Anaconda3\\lib\\site-packages\\pandas\\core\\indexing.py:116: FutureWarning:\n",
      "\n",
      "\n",
      "Passing list-likes to .loc or [] with any missing label will raise\n",
      "KeyError in the future, you can use .reindex() as an alternative.\n",
      "\n",
      "See the documentation here:\n",
      "https://pandas.pydata.org/pandas-docs/stable/indexing.html#deprecate-loc-reindex-listlike\n",
      "\n"
     ]
    }
   ],
   "source": [
    "risk_free = web.risk_free(start, end, date_index)"
   ]
  },
  {
   "cell_type": "code",
   "execution_count": 9,
   "metadata": {},
   "outputs": [],
   "source": [
    "close_prices = stocks.loc[:, :, 'Close'].fillna(method='ffill').fillna(method='bfill').dropna(axis=1)\n",
    "adj_close_prices = stocks.loc[:, :, 'Adj Close'].fillna(method='ffill').fillna(method='bfill').dropna(axis=1)"
   ]
  },
  {
   "cell_type": "code",
   "execution_count": 10,
   "metadata": {},
   "outputs": [
    {
     "data": {
      "text/html": [
       "<div>\n",
       "<style scoped>\n",
       "    .dataframe tbody tr th:only-of-type {\n",
       "        vertical-align: middle;\n",
       "    }\n",
       "\n",
       "    .dataframe tbody tr th {\n",
       "        vertical-align: top;\n",
       "    }\n",
       "\n",
       "    .dataframe thead th {\n",
       "        text-align: right;\n",
       "    }\n",
       "</style>\n",
       "<table border=\"1\" class=\"dataframe\">\n",
       "  <thead>\n",
       "    <tr style=\"text-align: right;\">\n",
       "      <th></th>\n",
       "      <th>ABEV3</th>\n",
       "      <th>BBAS3</th>\n",
       "      <th>BBDC3</th>\n",
       "      <th>BBDC4</th>\n",
       "      <th>BBSE3</th>\n",
       "      <th>BRAP4</th>\n",
       "      <th>BRFS3</th>\n",
       "      <th>BRKM5</th>\n",
       "      <th>BRML3</th>\n",
       "      <th>B3SA3</th>\n",
       "      <th>...</th>\n",
       "      <th>VALE3</th>\n",
       "      <th>MPLU3</th>\n",
       "      <th>VIVT4</th>\n",
       "      <th>WEGE3</th>\n",
       "      <th>BEEF3</th>\n",
       "      <th>AZUL4</th>\n",
       "      <th>VLID3</th>\n",
       "      <th>SBSP3</th>\n",
       "      <th>SUZB3</th>\n",
       "      <th>ibov</th>\n",
       "    </tr>\n",
       "  </thead>\n",
       "  <tbody>\n",
       "    <tr>\n",
       "      <th>2015-04-29</th>\n",
       "      <td>17.110661</td>\n",
       "      <td>21.659424</td>\n",
       "      <td>19.955036</td>\n",
       "      <td>20.133018</td>\n",
       "      <td>27.952488</td>\n",
       "      <td>9.607440</td>\n",
       "      <td>62.865139</td>\n",
       "      <td>10.323692</td>\n",
       "      <td>10.744433</td>\n",
       "      <td>10.701515</td>\n",
       "      <td>...</td>\n",
       "      <td>18.931799</td>\n",
       "      <td>25.731129</td>\n",
       "      <td>40.545261</td>\n",
       "      <td>11.168038</td>\n",
       "      <td>7.803255</td>\n",
       "      <td>22.4</td>\n",
       "      <td>37.523205</td>\n",
       "      <td>16.542849</td>\n",
       "      <td>19.585752</td>\n",
       "      <td>55325.0</td>\n",
       "    </tr>\n",
       "    <tr>\n",
       "      <th>2015-04-30</th>\n",
       "      <td>17.201431</td>\n",
       "      <td>22.175917</td>\n",
       "      <td>19.928499</td>\n",
       "      <td>20.548019</td>\n",
       "      <td>28.379923</td>\n",
       "      <td>9.964503</td>\n",
       "      <td>62.170063</td>\n",
       "      <td>10.566898</td>\n",
       "      <td>10.364489</td>\n",
       "      <td>10.885272</td>\n",
       "      <td>...</td>\n",
       "      <td>20.312899</td>\n",
       "      <td>24.660526</td>\n",
       "      <td>40.109123</td>\n",
       "      <td>11.301958</td>\n",
       "      <td>8.416228</td>\n",
       "      <td>22.4</td>\n",
       "      <td>38.764286</td>\n",
       "      <td>16.496510</td>\n",
       "      <td>19.585752</td>\n",
       "      <td>56229.0</td>\n",
       "    </tr>\n",
       "    <tr>\n",
       "      <th>2015-05-04</th>\n",
       "      <td>17.555449</td>\n",
       "      <td>22.025965</td>\n",
       "      <td>19.795818</td>\n",
       "      <td>20.650171</td>\n",
       "      <td>28.315407</td>\n",
       "      <td>10.545765</td>\n",
       "      <td>62.507938</td>\n",
       "      <td>11.774544</td>\n",
       "      <td>10.902502</td>\n",
       "      <td>11.130277</td>\n",
       "      <td>...</td>\n",
       "      <td>22.223116</td>\n",
       "      <td>25.195822</td>\n",
       "      <td>39.802200</td>\n",
       "      <td>11.696472</td>\n",
       "      <td>8.688662</td>\n",
       "      <td>22.4</td>\n",
       "      <td>39.484131</td>\n",
       "      <td>17.173052</td>\n",
       "      <td>19.713055</td>\n",
       "      <td>57354.0</td>\n",
       "    </tr>\n",
       "    <tr>\n",
       "      <th>2015-05-05</th>\n",
       "      <td>17.764225</td>\n",
       "      <td>22.634094</td>\n",
       "      <td>20.089941</td>\n",
       "      <td>20.735182</td>\n",
       "      <td>28.339602</td>\n",
       "      <td>11.127027</td>\n",
       "      <td>62.266598</td>\n",
       "      <td>11.246198</td>\n",
       "      <td>11.292301</td>\n",
       "      <td>11.182777</td>\n",
       "      <td>...</td>\n",
       "      <td>24.267857</td>\n",
       "      <td>27.718340</td>\n",
       "      <td>38.889538</td>\n",
       "      <td>11.844496</td>\n",
       "      <td>9.311364</td>\n",
       "      <td>22.4</td>\n",
       "      <td>38.557419</td>\n",
       "      <td>17.163786</td>\n",
       "      <td>19.713055</td>\n",
       "      <td>58052.0</td>\n",
       "    </tr>\n",
       "    <tr>\n",
       "      <th>2015-05-06</th>\n",
       "      <td>18.009310</td>\n",
       "      <td>22.584114</td>\n",
       "      <td>19.791248</td>\n",
       "      <td>20.223951</td>\n",
       "      <td>28.992849</td>\n",
       "      <td>10.786572</td>\n",
       "      <td>61.590839</td>\n",
       "      <td>11.388768</td>\n",
       "      <td>10.849653</td>\n",
       "      <td>11.182777</td>\n",
       "      <td>...</td>\n",
       "      <td>22.357641</td>\n",
       "      <td>28.370966</td>\n",
       "      <td>38.744152</td>\n",
       "      <td>11.717634</td>\n",
       "      <td>9.019473</td>\n",
       "      <td>22.4</td>\n",
       "      <td>38.681561</td>\n",
       "      <td>17.682777</td>\n",
       "      <td>19.713055</td>\n",
       "      <td>57103.0</td>\n",
       "    </tr>\n",
       "  </tbody>\n",
       "</table>\n",
       "<p>5 rows × 63 columns</p>\n",
       "</div>"
      ],
      "text/plain": [
       "                ABEV3      BBAS3      BBDC3      BBDC4      BBSE3      BRAP4  \\\n",
       "2015-04-29  17.110661  21.659424  19.955036  20.133018  27.952488   9.607440   \n",
       "2015-04-30  17.201431  22.175917  19.928499  20.548019  28.379923   9.964503   \n",
       "2015-05-04  17.555449  22.025965  19.795818  20.650171  28.315407  10.545765   \n",
       "2015-05-05  17.764225  22.634094  20.089941  20.735182  28.339602  11.127027   \n",
       "2015-05-06  18.009310  22.584114  19.791248  20.223951  28.992849  10.786572   \n",
       "\n",
       "                BRFS3      BRKM5      BRML3      B3SA3   ...         VALE3  \\\n",
       "2015-04-29  62.865139  10.323692  10.744433  10.701515   ...     18.931799   \n",
       "2015-04-30  62.170063  10.566898  10.364489  10.885272   ...     20.312899   \n",
       "2015-05-04  62.507938  11.774544  10.902502  11.130277   ...     22.223116   \n",
       "2015-05-05  62.266598  11.246198  11.292301  11.182777   ...     24.267857   \n",
       "2015-05-06  61.590839  11.388768  10.849653  11.182777   ...     22.357641   \n",
       "\n",
       "                MPLU3      VIVT4      WEGE3     BEEF3  AZUL4      VLID3  \\\n",
       "2015-04-29  25.731129  40.545261  11.168038  7.803255   22.4  37.523205   \n",
       "2015-04-30  24.660526  40.109123  11.301958  8.416228   22.4  38.764286   \n",
       "2015-05-04  25.195822  39.802200  11.696472  8.688662   22.4  39.484131   \n",
       "2015-05-05  27.718340  38.889538  11.844496  9.311364   22.4  38.557419   \n",
       "2015-05-06  28.370966  38.744152  11.717634  9.019473   22.4  38.681561   \n",
       "\n",
       "                SBSP3      SUZB3     ibov  \n",
       "2015-04-29  16.542849  19.585752  55325.0  \n",
       "2015-04-30  16.496510  19.585752  56229.0  \n",
       "2015-05-04  17.173052  19.713055  57354.0  \n",
       "2015-05-05  17.163786  19.713055  58052.0  \n",
       "2015-05-06  17.682777  19.713055  57103.0  \n",
       "\n",
       "[5 rows x 63 columns]"
      ]
     },
     "execution_count": 10,
     "metadata": {},
     "output_type": "execute_result"
    }
   ],
   "source": [
    "adj_close_prices.head()"
   ]
  },
  {
   "cell_type": "code",
   "execution_count": 11,
   "metadata": {},
   "outputs": [],
   "source": [
    "simple_returns = data.simple_returns(adj_close_prices)\n",
    "cc_returns = np.log(1 + simple_returns)"
   ]
  },
  {
   "cell_type": "code",
   "execution_count": 12,
   "metadata": {},
   "outputs": [],
   "source": [
    "# ewm_cov = risk.ewm_cov(cc_returns, window=75)\n",
    "# ewm_mean = risk.ewm_mean(cc_returns, window=75)\n",
    "# ewm_var = risk.ewm_variance(cc_returns, window=75)"
   ]
  },
  {
   "cell_type": "code",
   "execution_count": 13,
   "metadata": {},
   "outputs": [],
   "source": [
    "# betas = risk.get_betas(ewm_cov).tail(1)\n",
    "# betas = pd.Series(betas.ix[0, :].values, index=betas.columns, name='beta')\n",
    "# tickers['beta'] = betas"
   ]
  },
  {
   "cell_type": "code",
   "execution_count": 14,
   "metadata": {},
   "outputs": [],
   "source": [
    "# variance = pd.Series(ewm_var.tail(1).ix[0, :].values, index=ewm_var.tail(1).columns, name='daily_volatility')\n",
    "#  tickers['daily_volatility'] = variance.head(-1) ** 0.5"
   ]
  },
  {
   "cell_type": "code",
   "execution_count": 15,
   "metadata": {},
   "outputs": [],
   "source": [
    "# mean = pd.Series(ewm_mean.tail(1).ix[0, :].values, index=ewm_mean.tail(1).columns, name='average_return')"
   ]
  },
  {
   "cell_type": "code",
   "execution_count": 16,
   "metadata": {},
   "outputs": [],
   "source": [
    "# tickers['daily_value_at_risk_95'] = risk.parametric_value_at_risk(mean.head(-1), variance.head(-1) ** 0.5, 0.05)\n",
    "# tickers['daily_value_at_risk_99'] = risk.parametric_value_at_risk(mean.head(-1), variance.head(-1) ** 0.5, 0.01)"
   ]
  },
  {
   "cell_type": "code",
   "execution_count": 17,
   "metadata": {},
   "outputs": [],
   "source": [
    "# sharpe_ratio = risk.sharpe_ratio(mean, variance)\n",
    "# tickers['sharpe_ratio'] = sharpe_ratio"
   ]
  },
  {
   "cell_type": "code",
   "execution_count": 18,
   "metadata": {},
   "outputs": [],
   "source": [
    "io.save_data(tickers, adj_close_prices, close_prices, simple_returns, cc_returns, file='database.xlsx')"
   ]
  },
  {
   "cell_type": "markdown",
   "metadata": {},
   "source": [
    "### TOP 5 Analysis"
   ]
  },
  {
   "cell_type": "code",
   "execution_count": 74,
   "metadata": {},
   "outputs": [
    {
     "data": {
      "text/html": [
       "<div>\n",
       "<style scoped>\n",
       "    .dataframe tbody tr th:only-of-type {\n",
       "        vertical-align: middle;\n",
       "    }\n",
       "\n",
       "    .dataframe tbody tr th {\n",
       "        vertical-align: top;\n",
       "    }\n",
       "\n",
       "    .dataframe thead th {\n",
       "        text-align: right;\n",
       "    }\n",
       "</style>\n",
       "<table border=\"1\" class=\"dataframe\">\n",
       "  <thead>\n",
       "    <tr style=\"text-align: right;\">\n",
       "      <th></th>\n",
       "      <th>start</th>\n",
       "      <th>ticker_1</th>\n",
       "      <th>ticker_2</th>\n",
       "      <th>ticker_3</th>\n",
       "      <th>ticker_4</th>\n",
       "      <th>ticker_5</th>\n",
       "    </tr>\n",
       "  </thead>\n",
       "  <tbody>\n",
       "    <tr>\n",
       "      <th>0</th>\n",
       "      <td>2015-12-30</td>\n",
       "      <td>BBDC4</td>\n",
       "      <td>BRFS3</td>\n",
       "      <td>CPFE3</td>\n",
       "      <td>VIVT4</td>\n",
       "      <td>WEGE3</td>\n",
       "    </tr>\n",
       "    <tr>\n",
       "      <th>1</th>\n",
       "      <td>2016-01-29</td>\n",
       "      <td>BBDC4</td>\n",
       "      <td>BRFS3</td>\n",
       "      <td>CPFE3</td>\n",
       "      <td>VIVT4</td>\n",
       "      <td>WEGE3</td>\n",
       "    </tr>\n",
       "    <tr>\n",
       "      <th>2</th>\n",
       "      <td>2016-02-01</td>\n",
       "      <td>BBDC4</td>\n",
       "      <td>BRFS3</td>\n",
       "      <td>CPFE3</td>\n",
       "      <td>SUZB3</td>\n",
       "      <td>VIVT4</td>\n",
       "    </tr>\n",
       "    <tr>\n",
       "      <th>3</th>\n",
       "      <td>2016-02-24</td>\n",
       "      <td>BBDC4</td>\n",
       "      <td>CPFE3</td>\n",
       "      <td>MPLU3</td>\n",
       "      <td>SUZB3</td>\n",
       "      <td>VIVT4</td>\n",
       "    </tr>\n",
       "    <tr>\n",
       "      <th>4</th>\n",
       "      <td>2016-02-29</td>\n",
       "      <td>BBDC4</td>\n",
       "      <td>CPFE3</td>\n",
       "      <td>MPLU3</td>\n",
       "      <td>SUZB3</td>\n",
       "      <td>VIVT4</td>\n",
       "    </tr>\n",
       "  </tbody>\n",
       "</table>\n",
       "</div>"
      ],
      "text/plain": [
       "       start ticker_1 ticker_2 ticker_3 ticker_4 ticker_5\n",
       "0 2015-12-30    BBDC4    BRFS3    CPFE3    VIVT4    WEGE3\n",
       "1 2016-01-29    BBDC4    BRFS3    CPFE3    VIVT4    WEGE3\n",
       "2 2016-02-01    BBDC4    BRFS3    CPFE3    SUZB3    VIVT4\n",
       "3 2016-02-24    BBDC4    CPFE3    MPLU3    SUZB3    VIVT4\n",
       "4 2016-02-29    BBDC4    CPFE3    MPLU3    SUZB3    VIVT4"
      ]
     },
     "execution_count": 74,
     "metadata": {},
     "output_type": "execute_result"
    }
   ],
   "source": [
    "top5 = pd.read_excel(\"portfolio.xlsx\", sheet_name='Portfolio')\n",
    "top5['start'] = pd.to_datetime(top5['start'])\n",
    "top5.head()"
   ]
  },
  {
   "cell_type": "code",
   "execution_count": 75,
   "metadata": {},
   "outputs": [
    {
     "name": "stderr",
     "output_type": "stream",
     "text": [
      "C:\\Users\\Raphael\\Anaconda3\\lib\\site-packages\\pandas\\core\\indexes\\datetimes.py:962: PerformanceWarning:\n",
      "\n",
      "Non-vectorized DateOffset being applied to Series or DatetimeIndex\n",
      "\n"
     ]
    },
    {
     "data": {
      "text/html": [
       "<div>\n",
       "<style scoped>\n",
       "    .dataframe tbody tr th:only-of-type {\n",
       "        vertical-align: middle;\n",
       "    }\n",
       "\n",
       "    .dataframe tbody tr th {\n",
       "        vertical-align: top;\n",
       "    }\n",
       "\n",
       "    .dataframe thead th {\n",
       "        text-align: right;\n",
       "    }\n",
       "</style>\n",
       "<table border=\"1\" class=\"dataframe\">\n",
       "  <thead>\n",
       "    <tr style=\"text-align: right;\">\n",
       "      <th></th>\n",
       "      <th>start</th>\n",
       "      <th>end</th>\n",
       "      <th>ticker_1</th>\n",
       "      <th>ticker_2</th>\n",
       "      <th>ticker_3</th>\n",
       "      <th>ticker_4</th>\n",
       "      <th>ticker_5</th>\n",
       "    </tr>\n",
       "  </thead>\n",
       "  <tbody>\n",
       "    <tr>\n",
       "      <th>84</th>\n",
       "      <td>2018-08-06</td>\n",
       "      <td>2018-08-15</td>\n",
       "      <td>ESTC3</td>\n",
       "      <td>BEEF3</td>\n",
       "      <td>GGBR4</td>\n",
       "      <td>VIVT4</td>\n",
       "      <td>VLID3</td>\n",
       "    </tr>\n",
       "    <tr>\n",
       "      <th>85</th>\n",
       "      <td>2018-08-16</td>\n",
       "      <td>2018-08-24</td>\n",
       "      <td>ESTC3</td>\n",
       "      <td>BEEF3</td>\n",
       "      <td>GGBR4</td>\n",
       "      <td>VIVT4</td>\n",
       "      <td>PETR4</td>\n",
       "    </tr>\n",
       "    <tr>\n",
       "      <th>86</th>\n",
       "      <td>2018-08-27</td>\n",
       "      <td>2018-09-21</td>\n",
       "      <td>ESTC3</td>\n",
       "      <td>BEEF3</td>\n",
       "      <td>RAPT4</td>\n",
       "      <td>VIVT4</td>\n",
       "      <td>PETR4</td>\n",
       "    </tr>\n",
       "    <tr>\n",
       "      <th>87</th>\n",
       "      <td>2018-09-24</td>\n",
       "      <td>2018-11-16</td>\n",
       "      <td>ESTC3</td>\n",
       "      <td>BEEF3</td>\n",
       "      <td>RAPT4</td>\n",
       "      <td>BBDC4</td>\n",
       "      <td>PETR4</td>\n",
       "    </tr>\n",
       "    <tr>\n",
       "      <th>88</th>\n",
       "      <td>2018-11-19</td>\n",
       "      <td>2018-12-13</td>\n",
       "      <td>PETR4</td>\n",
       "      <td>CYRE3</td>\n",
       "      <td>ESTC3</td>\n",
       "      <td>AZUL4</td>\n",
       "      <td>BEEF3</td>\n",
       "    </tr>\n",
       "  </tbody>\n",
       "</table>\n",
       "</div>"
      ],
      "text/plain": [
       "        start        end ticker_1 ticker_2 ticker_3 ticker_4 ticker_5\n",
       "84 2018-08-06 2018-08-15    ESTC3    BEEF3    GGBR4    VIVT4    VLID3\n",
       "85 2018-08-16 2018-08-24    ESTC3    BEEF3    GGBR4    VIVT4    PETR4\n",
       "86 2018-08-27 2018-09-21    ESTC3    BEEF3    RAPT4    VIVT4    PETR4\n",
       "87 2018-09-24 2018-11-16    ESTC3    BEEF3    RAPT4    BBDC4    PETR4\n",
       "88 2018-11-19 2018-12-13    PETR4    CYRE3    ESTC3    AZUL4    BEEF3"
      ]
     },
     "execution_count": 75,
     "metadata": {},
     "output_type": "execute_result"
    }
   ],
   "source": [
    "top5['end'] = top5['start'].shift(-1) - CustomBusinessDay(1, holidays=br_holidays)\n",
    "\n",
    "top5 = top5.loc[:, ['start', 'end', 'ticker_1', 'ticker_2', 'ticker_3', 'ticker_4', 'ticker_5']]\n",
    "\n",
    "top5.iloc[-1, 1] = pd.datetime.today().date() - CustomBusinessDay(1, holidays=br_holidays) # Yesterday\n",
    "\n",
    "top5.tail()"
   ]
  },
  {
   "cell_type": "code",
   "execution_count": 76,
   "metadata": {},
   "outputs": [
    {
     "data": {
      "text/html": [
       "<div>\n",
       "<style scoped>\n",
       "    .dataframe tbody tr th:only-of-type {\n",
       "        vertical-align: middle;\n",
       "    }\n",
       "\n",
       "    .dataframe tbody tr th {\n",
       "        vertical-align: top;\n",
       "    }\n",
       "\n",
       "    .dataframe thead th {\n",
       "        text-align: right;\n",
       "    }\n",
       "</style>\n",
       "<table border=\"1\" class=\"dataframe\">\n",
       "  <thead>\n",
       "    <tr style=\"text-align: right;\">\n",
       "      <th></th>\n",
       "      <th></th>\n",
       "      <th>ticker_1</th>\n",
       "      <th>ticker_2</th>\n",
       "      <th>ticker_3</th>\n",
       "      <th>ticker_4</th>\n",
       "      <th>ticker_5</th>\n",
       "    </tr>\n",
       "    <tr>\n",
       "      <th>start</th>\n",
       "      <th>end</th>\n",
       "      <th></th>\n",
       "      <th></th>\n",
       "      <th></th>\n",
       "      <th></th>\n",
       "      <th></th>\n",
       "    </tr>\n",
       "  </thead>\n",
       "  <tbody>\n",
       "    <tr>\n",
       "      <th>2015-12-30</th>\n",
       "      <th>2016-01-28</th>\n",
       "      <td>BBDC4</td>\n",
       "      <td>BRFS3</td>\n",
       "      <td>CPFE3</td>\n",
       "      <td>VIVT4</td>\n",
       "      <td>WEGE3</td>\n",
       "    </tr>\n",
       "    <tr>\n",
       "      <th>2016-01-29</th>\n",
       "      <th>2016-01-29</th>\n",
       "      <td>BBDC4</td>\n",
       "      <td>BRFS3</td>\n",
       "      <td>CPFE3</td>\n",
       "      <td>VIVT4</td>\n",
       "      <td>WEGE3</td>\n",
       "    </tr>\n",
       "    <tr>\n",
       "      <th>2016-02-01</th>\n",
       "      <th>2016-02-23</th>\n",
       "      <td>BBDC4</td>\n",
       "      <td>BRFS3</td>\n",
       "      <td>CPFE3</td>\n",
       "      <td>SUZB3</td>\n",
       "      <td>VIVT4</td>\n",
       "    </tr>\n",
       "    <tr>\n",
       "      <th>2016-02-24</th>\n",
       "      <th>2016-02-26</th>\n",
       "      <td>BBDC4</td>\n",
       "      <td>CPFE3</td>\n",
       "      <td>MPLU3</td>\n",
       "      <td>SUZB3</td>\n",
       "      <td>VIVT4</td>\n",
       "    </tr>\n",
       "    <tr>\n",
       "      <th>2016-02-29</th>\n",
       "      <th>2016-03-08</th>\n",
       "      <td>BBDC4</td>\n",
       "      <td>CPFE3</td>\n",
       "      <td>MPLU3</td>\n",
       "      <td>SUZB3</td>\n",
       "      <td>VIVT4</td>\n",
       "    </tr>\n",
       "  </tbody>\n",
       "</table>\n",
       "</div>"
      ],
      "text/plain": [
       "                      ticker_1 ticker_2 ticker_3 ticker_4 ticker_5\n",
       "start      end                                                    \n",
       "2015-12-30 2016-01-28    BBDC4    BRFS3    CPFE3    VIVT4    WEGE3\n",
       "2016-01-29 2016-01-29    BBDC4    BRFS3    CPFE3    VIVT4    WEGE3\n",
       "2016-02-01 2016-02-23    BBDC4    BRFS3    CPFE3    SUZB3    VIVT4\n",
       "2016-02-24 2016-02-26    BBDC4    CPFE3    MPLU3    SUZB3    VIVT4\n",
       "2016-02-29 2016-03-08    BBDC4    CPFE3    MPLU3    SUZB3    VIVT4"
      ]
     },
     "execution_count": 76,
     "metadata": {},
     "output_type": "execute_result"
    }
   ],
   "source": [
    "top5 = top5.set_index(['start', 'end'])\n",
    "\n",
    "top5.head()"
   ]
  },
  {
   "cell_type": "code",
   "execution_count": 105,
   "metadata": {},
   "outputs": [],
   "source": [
    "starts = top5.index.get_level_values(0)\n",
    "\n",
    "allocations = [ row.values for _, row in top5.iterrows() ]\n",
    "allocations = [ ' '.join(i) for i in allocations ]\n",
    "\n",
    "allocations = [ date + \": \" + allocation for date, allocation in zip(starts.strftime(\"%Y-%m-%d\").tolist(), allocations) ]"
   ]
  },
  {
   "cell_type": "code",
   "execution_count": 107,
   "metadata": {},
   "outputs": [
    {
     "name": "stderr",
     "output_type": "stream",
     "text": [
      "C:\\Users\\Raphael\\Anaconda3\\lib\\site-packages\\pandas\\core\\indexing.py:1472: FutureWarning:\n",
      "\n",
      "\n",
      "Passing list-likes to .loc or [] with any missing label will raise\n",
      "KeyError in the future, you can use .reindex() as an alternative.\n",
      "\n",
      "See the documentation here:\n",
      "https://pandas.pydata.org/pandas-docs/stable/indexing.html#deprecate-loc-reindex-listlike\n",
      "\n"
     ]
    }
   ],
   "source": [
    "returns_cc = []\n",
    "\n",
    "for _, row in top5.iterrows():\n",
    "    start = row.name[0]\n",
    "    end = row.name[1]\n",
    "    allocation = row.values\n",
    "\n",
    "    returns_cc.append( cc_returns.loc[start:end, allocation].sum().sum() / 5 )\n",
    "\n",
    "returns = np.exp(returns_cc) - 1\n",
    "cum_returns = np.exp(np.cumsum(returns_cc)) - 1\n"
   ]
  },
  {
   "cell_type": "code",
   "execution_count": 108,
   "metadata": {},
   "outputs": [
    {
     "data": {
      "text/html": [
       "<iframe id=\"igraph\" scrolling=\"no\" style=\"border:none;\" seamless=\"seamless\" src=\"https://plot.ly/~raphaelrrcoelho/2.embed\" height=\"525px\" width=\"100%\"></iframe>"
      ],
      "text/plain": [
       "<plotly.tools.PlotlyDisplay object>"
      ]
     },
     "execution_count": 108,
     "metadata": {},
     "output_type": "execute_result"
    }
   ],
   "source": [
    "data = [\n",
    "    go.Scatter(\n",
    "        x = starts,\n",
    "        y = returns,\n",
    "        text = allocations,\n",
    "        hoverinfo = 'text',\n",
    "        marker = dict(\n",
    "            color = 'green'\n",
    "        ),\n",
    "        showlegend = False\n",
    "    )\n",
    "]\n",
    "\n",
    "py.iplot(data, filename = \"top5_returns\")"
   ]
  },
  {
   "cell_type": "code",
   "execution_count": 109,
   "metadata": {},
   "outputs": [
    {
     "data": {
      "text/html": [
       "<iframe id=\"igraph\" scrolling=\"no\" style=\"border:none;\" seamless=\"seamless\" src=\"https://plot.ly/~raphaelrrcoelho/4.embed\" height=\"525px\" width=\"100%\"></iframe>"
      ],
      "text/plain": [
       "<plotly.tools.PlotlyDisplay object>"
      ]
     },
     "execution_count": 109,
     "metadata": {},
     "output_type": "execute_result"
    }
   ],
   "source": [
    "data = [\n",
    "    go.Scatter(\n",
    "        x = starts,\n",
    "        y = cum_returns,\n",
    "        text = allocations,\n",
    "        hoverinfo = 'text',\n",
    "        marker = dict(\n",
    "            color = 'green'\n",
    "        ),\n",
    "        showlegend = False\n",
    "    )\n",
    "]\n",
    "\n",
    "layout = dict(\n",
    "    title = \"Top 5 Cumulative Returns\",\n",
    "    xaxis = dict(\n",
    "        range = [starts[0], starts[1]])\n",
    ")\n",
    "\n",
    "fig = dict(data=data, layout=layout)\n",
    "py.iplot(data, filename = \"top5_cumulative_returns\")"
   ]
  },
  {
   "cell_type": "code",
   "execution_count": 110,
   "metadata": {},
   "outputs": [],
   "source": [
    "yesterday = pd.datetime.today().date() - CustomBusinessDay(1, holidays=br_holidays)"
   ]
  },
  {
   "cell_type": "code",
   "execution_count": 114,
   "metadata": {},
   "outputs": [
    {
     "data": {
      "text/plain": [
       "DatetimeIndex(['2015-12-30', '2016-01-04', '2016-01-05', '2016-01-06',\n",
       "               '2016-01-07', '2016-01-08', '2016-01-11', '2016-01-12',\n",
       "               '2016-01-13', '2016-01-14',\n",
       "               ...\n",
       "               '2018-11-30', '2018-12-03', '2018-12-04', '2018-12-05',\n",
       "               '2018-12-06', '2018-12-07', '2018-12-10', '2018-12-11',\n",
       "               '2018-12-12', '2018-12-13'],\n",
       "              dtype='datetime64[ns]', length=734, freq='C')"
      ]
     },
     "execution_count": 114,
     "metadata": {},
     "output_type": "execute_result"
    }
   ],
   "source": [
    "adj_close_prices.loc[starts[0]:yesterday, :].index"
   ]
  },
  {
   "cell_type": "code",
   "execution_count": 117,
   "metadata": {},
   "outputs": [
    {
     "data": {
      "text/plain": [
       "array([1.59685593, 2.18295342, 2.08189018])"
      ]
     },
     "execution_count": 117,
     "metadata": {},
     "output_type": "execute_result"
    }
   ],
   "source": [
    "cum_returns[-3:]"
   ]
  },
  {
   "cell_type": "code",
   "execution_count": 120,
   "metadata": {},
   "outputs": [
    {
     "data": {
      "text/plain": [
       "0.47171184348008177"
      ]
     },
     "execution_count": 120,
     "metadata": {},
     "output_type": "execute_result"
    }
   ],
   "source": [
    "(1 + 2.08189018)**(252./734) - 1"
   ]
  },
  {
   "cell_type": "code",
   "execution_count": null,
   "metadata": {},
   "outputs": [],
   "source": []
  }
 ],
 "metadata": {
  "anaconda-cloud": {},
  "kernelspec": {
   "display_name": "Python 3",
   "language": "python",
   "name": "python3"
  },
  "language_info": {
   "codemirror_mode": {
    "name": "ipython",
    "version": 3
   },
   "file_extension": ".py",
   "mimetype": "text/x-python",
   "name": "python",
   "nbconvert_exporter": "python",
   "pygments_lexer": "ipython3",
   "version": "3.7.0"
  }
 },
 "nbformat": 4,
 "nbformat_minor": 2
}
