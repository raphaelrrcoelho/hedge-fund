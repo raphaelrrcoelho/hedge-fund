{
 "cells": [
  {
   "cell_type": "code",
   "execution_count": 1,
   "metadata": {},
   "outputs": [],
   "source": [
    "# Import libraries\n",
    "import numpy as np\n",
    "import pandas as pd\n",
    "from pandas.tseries.offsets import CustomBusinessDay"
   ]
  },
  {
   "cell_type": "code",
   "execution_count": 2,
   "metadata": {},
   "outputs": [],
   "source": [
    "import matplotlib.pyplot as plt\n",
    "import plotly.plotly as py\n",
    "import plotly.graph_objs as go\n",
    "\n",
    "import plotly\n",
    "plotly.tools.set_credentials_file(username='raphaelrrcoelho', api_key='H2lY25XX3A0IkijhzRmA')"
   ]
  },
  {
   "cell_type": "code",
   "execution_count": 3,
   "metadata": {},
   "outputs": [],
   "source": [
    "from modules import io, web, data, risk\n",
    "import pandas_datareader.data as pd_web\n",
    "import quandl\n",
    "\n",
    "# from statsmodels import regression\n",
    "# from scipy.stats import norm\n",
    "# import statsmodels.api as sm\n",
    "\n",
    "# from financial_risk import web, data, risk, io, plot, report"
   ]
  },
  {
   "cell_type": "code",
   "execution_count": 4,
   "metadata": {},
   "outputs": [],
   "source": [
    "br_holidays = io.get_holidays()"
   ]
  },
  {
   "cell_type": "code",
   "execution_count": 5,
   "metadata": {
    "collapsed": true
   },
   "outputs": [
    {
     "name": "stdout",
     "output_type": "stream",
     "text": [
      "2015-10-16 00:00:00 2019-01-11 00:00:00\n"
     ]
    }
   ],
   "source": [
    "start = pd.datetime.today().date() - CustomBusinessDay(800, holidays=br_holidays) # 252 Business Days Equals * 3 (Years)\n",
    "end = pd.datetime.today().date() - CustomBusinessDay(1, holidays=br_holidays) # Yesterday\n",
    "\n",
    "date_index = pd.date_range(start, end, freq=CustomBusinessDay(holidays=br_holidays))\n",
    "print(start, end)"
   ]
  },
  {
   "cell_type": "code",
   "execution_count": 6,
   "metadata": {},
   "outputs": [],
   "source": [
    "tickers = io.tickers(file='database.xlsx')"
   ]
  },
  {
   "cell_type": "code",
   "execution_count": 7,
   "metadata": {},
   "outputs": [
    {
     "name": "stderr",
     "output_type": "stream",
     "text": [
      "C:\\Users\\Raphael\\Downloads\\hedge-fund\\modules\\web.py:16: FutureWarning:\n",
      "\n",
      "\n",
      "Panel is deprecated and will be removed in a future version.\n",
      "The recommended way to represent these types of 3-dimensional data are with a MultiIndex on a DataFrame, via the Panel.to_frame() method\n",
      "Alternatively, you can use the xarray package http://xarray.pydata.org/en/stable/.\n",
      "Pandas provides a `.to_xarray()` method to help automate this conversion.\n",
      "\n",
      "\n",
      "C:\\Users\\Raphael\\Anaconda3\\lib\\site-packages\\pandas\\core\\indexing.py:1147: FutureWarning:\n",
      "\n",
      "\n",
      "Panel is deprecated and will be removed in a future version.\n",
      "The recommended way to represent these types of 3-dimensional data are with a MultiIndex on a DataFrame, via the Panel.to_frame() method\n",
      "Alternatively, you can use the xarray package http://xarray.pydata.org/en/stable/.\n",
      "Pandas provides a `.to_xarray()` method to help automate this conversion.\n",
      "\n",
      "\n",
      "C:\\Users\\Raphael\\Anaconda3\\lib\\site-packages\\pandas\\core\\indexing.py:1472: FutureWarning:\n",
      "\n",
      "\n",
      "Passing list-likes to .loc or [] with any missing label will raise\n",
      "KeyError in the future, you can use .reindex() as an alternative.\n",
      "\n",
      "See the documentation here:\n",
      "https://pandas.pydata.org/pandas-docs/stable/indexing.html#deprecate-loc-reindex-listlike\n",
      "\n"
     ]
    }
   ],
   "source": [
    "stocks = web.stocks(tickers, start, end)\n",
    "stocks = stocks[:, date_index, :]"
   ]
  },
  {
   "cell_type": "code",
   "execution_count": 8,
   "metadata": {
    "collapsed": true
   },
   "outputs": [
    {
     "name": "stderr",
     "output_type": "stream",
     "text": [
      "C:\\Users\\Raphael\\Anaconda3\\lib\\site-packages\\pandas\\core\\indexing.py:116: FutureWarning:\n",
      "\n",
      "\n",
      "Passing list-likes to .loc or [] with any missing label will raise\n",
      "KeyError in the future, you can use .reindex() as an alternative.\n",
      "\n",
      "See the documentation here:\n",
      "https://pandas.pydata.org/pandas-docs/stable/indexing.html#deprecate-loc-reindex-listlike\n",
      "\n"
     ]
    }
   ],
   "source": [
    "risk_free = web.risk_free(start, end, date_index)\n",
    "cc_risk_free = np.log(1 + risk_free)"
   ]
  },
  {
   "cell_type": "code",
   "execution_count": 9,
   "metadata": {},
   "outputs": [],
   "source": [
    "close_prices = stocks.loc[:, :, 'Close'].fillna(method='ffill').fillna(method='bfill').dropna(axis=1)\n",
    "adj_close_prices = stocks.loc[:, :, 'Adj Close'].fillna(method='ffill').fillna(method='bfill').dropna(axis=1)\n",
    "volumes = stocks.loc[:, :, 'Volume'].fillna(method='ffill').fillna(method='bfill').dropna(axis=1)"
   ]
  },
  {
   "cell_type": "code",
   "execution_count": 10,
   "metadata": {},
   "outputs": [
    {
     "data": {
      "text/html": [
       "<div>\n",
       "<style scoped>\n",
       "    .dataframe tbody tr th:only-of-type {\n",
       "        vertical-align: middle;\n",
       "    }\n",
       "\n",
       "    .dataframe tbody tr th {\n",
       "        vertical-align: top;\n",
       "    }\n",
       "\n",
       "    .dataframe thead th {\n",
       "        text-align: right;\n",
       "    }\n",
       "</style>\n",
       "<table border=\"1\" class=\"dataframe\">\n",
       "  <thead>\n",
       "    <tr style=\"text-align: right;\">\n",
       "      <th></th>\n",
       "      <th>ABEV3</th>\n",
       "      <th>AZUL4</th>\n",
       "      <th>BBAS3</th>\n",
       "      <th>BBDC4</th>\n",
       "      <th>BBSE3</th>\n",
       "      <th>BEEF3</th>\n",
       "      <th>BRFS3</th>\n",
       "      <th>BRML3</th>\n",
       "      <th>CCRO3</th>\n",
       "      <th>CMIG4</th>\n",
       "      <th>...</th>\n",
       "      <th>SMLS3</th>\n",
       "      <th>SUZB3</th>\n",
       "      <th>TIMP3</th>\n",
       "      <th>UGPA3</th>\n",
       "      <th>VALE3</th>\n",
       "      <th>VIVT4</th>\n",
       "      <th>VLID3</th>\n",
       "      <th>WEGE3</th>\n",
       "      <th>ibov</th>\n",
       "      <th>ibrx</th>\n",
       "    </tr>\n",
       "  </thead>\n",
       "  <tbody>\n",
       "    <tr>\n",
       "      <th>2015-10-16</th>\n",
       "      <td>17.382921</td>\n",
       "      <td>22.4</td>\n",
       "      <td>14.330626</td>\n",
       "      <td>14.004691</td>\n",
       "      <td>23.823763</td>\n",
       "      <td>12.804342</td>\n",
       "      <td>65.470482</td>\n",
       "      <td>7.208724</td>\n",
       "      <td>11.570652</td>\n",
       "      <td>5.472564</td>\n",
       "      <td>...</td>\n",
       "      <td>23.733704</td>\n",
       "      <td>20.25489</td>\n",
       "      <td>7.243366</td>\n",
       "      <td>63.132771</td>\n",
       "      <td>16.851244</td>\n",
       "      <td>30.634989</td>\n",
       "      <td>37.119846</td>\n",
       "      <td>11.391292</td>\n",
       "      <td>47236.0</td>\n",
       "      <td>8079.060059</td>\n",
       "    </tr>\n",
       "    <tr>\n",
       "      <th>2015-10-19</th>\n",
       "      <td>17.545124</td>\n",
       "      <td>22.4</td>\n",
       "      <td>14.964412</td>\n",
       "      <td>13.985579</td>\n",
       "      <td>24.205603</td>\n",
       "      <td>12.852991</td>\n",
       "      <td>64.984077</td>\n",
       "      <td>7.525590</td>\n",
       "      <td>11.641475</td>\n",
       "      <td>5.503348</td>\n",
       "      <td>...</td>\n",
       "      <td>23.131678</td>\n",
       "      <td>20.25489</td>\n",
       "      <td>7.196575</td>\n",
       "      <td>63.634418</td>\n",
       "      <td>16.284048</td>\n",
       "      <td>30.270290</td>\n",
       "      <td>36.958462</td>\n",
       "      <td>11.327244</td>\n",
       "      <td>47447.0</td>\n",
       "      <td>8111.149902</td>\n",
       "    </tr>\n",
       "    <tr>\n",
       "      <th>2015-10-20</th>\n",
       "      <td>17.644249</td>\n",
       "      <td>22.4</td>\n",
       "      <td>14.480268</td>\n",
       "      <td>13.655386</td>\n",
       "      <td>23.624537</td>\n",
       "      <td>12.648666</td>\n",
       "      <td>65.849876</td>\n",
       "      <td>7.393562</td>\n",
       "      <td>11.287362</td>\n",
       "      <td>5.818931</td>\n",
       "      <td>...</td>\n",
       "      <td>23.232016</td>\n",
       "      <td>20.25489</td>\n",
       "      <td>7.177858</td>\n",
       "      <td>63.866665</td>\n",
       "      <td>16.110229</td>\n",
       "      <td>30.245979</td>\n",
       "      <td>36.958462</td>\n",
       "      <td>11.355657</td>\n",
       "      <td>47077.0</td>\n",
       "      <td>8052.120117</td>\n",
       "    </tr>\n",
       "    <tr>\n",
       "      <th>2015-10-21</th>\n",
       "      <td>17.752386</td>\n",
       "      <td>22.4</td>\n",
       "      <td>14.656321</td>\n",
       "      <td>13.674411</td>\n",
       "      <td>23.607933</td>\n",
       "      <td>12.580559</td>\n",
       "      <td>66.686501</td>\n",
       "      <td>7.591605</td>\n",
       "      <td>11.136864</td>\n",
       "      <td>5.895895</td>\n",
       "      <td>...</td>\n",
       "      <td>23.424973</td>\n",
       "      <td>20.25489</td>\n",
       "      <td>7.196575</td>\n",
       "      <td>64.098900</td>\n",
       "      <td>16.549351</td>\n",
       "      <td>30.537739</td>\n",
       "      <td>37.805725</td>\n",
       "      <td>11.149261</td>\n",
       "      <td>47026.0</td>\n",
       "      <td>8055.299805</td>\n",
       "    </tr>\n",
       "    <tr>\n",
       "      <th>2015-10-22</th>\n",
       "      <td>17.716339</td>\n",
       "      <td>22.4</td>\n",
       "      <td>14.876383</td>\n",
       "      <td>13.877637</td>\n",
       "      <td>23.707544</td>\n",
       "      <td>12.745964</td>\n",
       "      <td>67.776054</td>\n",
       "      <td>7.743431</td>\n",
       "      <td>11.296215</td>\n",
       "      <td>5.980569</td>\n",
       "      <td>...</td>\n",
       "      <td>23.154833</td>\n",
       "      <td>20.25489</td>\n",
       "      <td>7.308874</td>\n",
       "      <td>64.925690</td>\n",
       "      <td>16.933578</td>\n",
       "      <td>31.056416</td>\n",
       "      <td>37.523281</td>\n",
       "      <td>11.284485</td>\n",
       "      <td>47772.0</td>\n",
       "      <td>8177.060059</td>\n",
       "    </tr>\n",
       "  </tbody>\n",
       "</table>\n",
       "<p>5 rows × 38 columns</p>\n",
       "</div>"
      ],
      "text/plain": [
       "                ABEV3  AZUL4      BBAS3      BBDC4      BBSE3      BEEF3  \\\n",
       "2015-10-16  17.382921   22.4  14.330626  14.004691  23.823763  12.804342   \n",
       "2015-10-19  17.545124   22.4  14.964412  13.985579  24.205603  12.852991   \n",
       "2015-10-20  17.644249   22.4  14.480268  13.655386  23.624537  12.648666   \n",
       "2015-10-21  17.752386   22.4  14.656321  13.674411  23.607933  12.580559   \n",
       "2015-10-22  17.716339   22.4  14.876383  13.877637  23.707544  12.745964   \n",
       "\n",
       "                BRFS3     BRML3      CCRO3     CMIG4     ...           SMLS3  \\\n",
       "2015-10-16  65.470482  7.208724  11.570652  5.472564     ...       23.733704   \n",
       "2015-10-19  64.984077  7.525590  11.641475  5.503348     ...       23.131678   \n",
       "2015-10-20  65.849876  7.393562  11.287362  5.818931     ...       23.232016   \n",
       "2015-10-21  66.686501  7.591605  11.136864  5.895895     ...       23.424973   \n",
       "2015-10-22  67.776054  7.743431  11.296215  5.980569     ...       23.154833   \n",
       "\n",
       "               SUZB3     TIMP3      UGPA3      VALE3      VIVT4      VLID3  \\\n",
       "2015-10-16  20.25489  7.243366  63.132771  16.851244  30.634989  37.119846   \n",
       "2015-10-19  20.25489  7.196575  63.634418  16.284048  30.270290  36.958462   \n",
       "2015-10-20  20.25489  7.177858  63.866665  16.110229  30.245979  36.958462   \n",
       "2015-10-21  20.25489  7.196575  64.098900  16.549351  30.537739  37.805725   \n",
       "2015-10-22  20.25489  7.308874  64.925690  16.933578  31.056416  37.523281   \n",
       "\n",
       "                WEGE3     ibov         ibrx  \n",
       "2015-10-16  11.391292  47236.0  8079.060059  \n",
       "2015-10-19  11.327244  47447.0  8111.149902  \n",
       "2015-10-20  11.355657  47077.0  8052.120117  \n",
       "2015-10-21  11.149261  47026.0  8055.299805  \n",
       "2015-10-22  11.284485  47772.0  8177.060059  \n",
       "\n",
       "[5 rows x 38 columns]"
      ]
     },
     "execution_count": 10,
     "metadata": {},
     "output_type": "execute_result"
    }
   ],
   "source": [
    "adj_close_prices.head()"
   ]
  },
  {
   "cell_type": "code",
   "execution_count": 11,
   "metadata": {},
   "outputs": [],
   "source": [
    "simple_returns = data.simple_returns(adj_close_prices)\n",
    "cc_returns = np.log(1 + simple_returns)"
   ]
  },
  {
   "cell_type": "code",
   "execution_count": 12,
   "metadata": {},
   "outputs": [],
   "source": [
    "volumes_diff = data.simple_returns(volumes)"
   ]
  },
  {
   "cell_type": "code",
   "execution_count": 13,
   "metadata": {},
   "outputs": [],
   "source": [
    "# ewm_cov = risk.ewm_cov(cc_returns, window=75)\n",
    "# ewm_mean = risk.ewm_mean(cc_returns, window=75)\n",
    "# ewm_var = risk.ewm_variance(cc_returns, window=75)"
   ]
  },
  {
   "cell_type": "code",
   "execution_count": 14,
   "metadata": {},
   "outputs": [],
   "source": [
    "# betas = risk.get_betas(ewm_cov).tail(1)\n",
    "# betas = pd.Series(betas.ix[0, :].values, index=betas.columns, name='beta')\n",
    "# tickers['beta'] = betas"
   ]
  },
  {
   "cell_type": "code",
   "execution_count": 15,
   "metadata": {},
   "outputs": [],
   "source": [
    "# variance = pd.Series(ewm_var.tail(1).ix[0, :].values, index=ewm_var.tail(1).columns, name='daily_volatility')\n",
    "#  tickers['daily_volatility'] = variance.head(-1) ** 0.5"
   ]
  },
  {
   "cell_type": "code",
   "execution_count": 16,
   "metadata": {},
   "outputs": [],
   "source": [
    "# mean = pd.Series(ewm_mean.tail(1).ix[0, :].values, index=ewm_mean.tail(1).columns, name='average_return')"
   ]
  },
  {
   "cell_type": "code",
   "execution_count": 17,
   "metadata": {},
   "outputs": [],
   "source": [
    "# tickers['daily_value_at_risk_95'] = risk.parametric_value_at_risk(mean.head(-1), variance.head(-1) ** 0.5, 0.05)\n",
    "# tickers['daily_value_at_risk_99'] = risk.parametric_value_at_risk(mean.head(-1), variance.head(-1) ** 0.5, 0.01)"
   ]
  },
  {
   "cell_type": "code",
   "execution_count": 18,
   "metadata": {},
   "outputs": [],
   "source": [
    "# sharpe_ratio = risk.sharpe_ratio(mean, variance)\n",
    "# tickers['sharpe_ratio'] = sharpe_ratio"
   ]
  },
  {
   "cell_type": "code",
   "execution_count": 19,
   "metadata": {},
   "outputs": [],
   "source": [
    "io.save_data(tickers, adj_close_prices, close_prices, simple_returns, cc_returns, file='database.xlsx')"
   ]
  },
  {
   "cell_type": "markdown",
   "metadata": {},
   "source": [
    "# TOP 5 Analysis"
   ]
  },
  {
   "cell_type": "code",
   "execution_count": 98,
   "metadata": {},
   "outputs": [],
   "source": [
    "top5 = pd.read_excel(\"portfolios.xlsx\", sheet_name='TOP5')\n",
    "top5['start'] = pd.to_datetime(top5['start'])"
   ]
  },
  {
   "cell_type": "code",
   "execution_count": 99,
   "metadata": {},
   "outputs": [
    {
     "name": "stderr",
     "output_type": "stream",
     "text": [
      "C:\\Users\\Raphael\\Anaconda3\\lib\\site-packages\\pandas\\core\\indexes\\datetimes.py:962: PerformanceWarning:\n",
      "\n",
      "Non-vectorized DateOffset being applied to Series or DatetimeIndex\n",
      "\n"
     ]
    }
   ],
   "source": [
    "top5['end'] = top5['start'].shift(-1) - CustomBusinessDay(1, holidays=br_holidays)\n",
    "\n",
    "top5 = top5.loc[:, ['start', 'end', 'ticker_1', 'ticker_2', 'ticker_3', 'ticker_4', 'ticker_5']]\n",
    "\n",
    "top5.iloc[-1, 1] = pd.datetime(2019, 1, 10) #pd.datetime.today().date() - CustomBusinessDay(1, holidays=br_holidays) # Yesterday"
   ]
  },
  {
   "cell_type": "code",
   "execution_count": 100,
   "metadata": {},
   "outputs": [
    {
     "data": {
      "text/html": [
       "<div>\n",
       "<style scoped>\n",
       "    .dataframe tbody tr th:only-of-type {\n",
       "        vertical-align: middle;\n",
       "    }\n",
       "\n",
       "    .dataframe tbody tr th {\n",
       "        vertical-align: top;\n",
       "    }\n",
       "\n",
       "    .dataframe thead th {\n",
       "        text-align: right;\n",
       "    }\n",
       "</style>\n",
       "<table border=\"1\" class=\"dataframe\">\n",
       "  <thead>\n",
       "    <tr style=\"text-align: right;\">\n",
       "      <th></th>\n",
       "      <th></th>\n",
       "      <th>ticker_1</th>\n",
       "      <th>ticker_2</th>\n",
       "      <th>ticker_3</th>\n",
       "      <th>ticker_4</th>\n",
       "      <th>ticker_5</th>\n",
       "    </tr>\n",
       "    <tr>\n",
       "      <th>start</th>\n",
       "      <th>end</th>\n",
       "      <th></th>\n",
       "      <th></th>\n",
       "      <th></th>\n",
       "      <th></th>\n",
       "      <th></th>\n",
       "    </tr>\n",
       "  </thead>\n",
       "  <tbody>\n",
       "    <tr>\n",
       "      <th>2018-09-24</th>\n",
       "      <th>2018-10-05</th>\n",
       "      <td>ESTC3</td>\n",
       "      <td>BEEF3</td>\n",
       "      <td>RAPT4</td>\n",
       "      <td>BBDC4</td>\n",
       "      <td>PETR4</td>\n",
       "    </tr>\n",
       "    <tr>\n",
       "      <th>2018-10-08</th>\n",
       "      <th>2018-10-19</th>\n",
       "      <td>ESTC3</td>\n",
       "      <td>BEEF3</td>\n",
       "      <td>RAPT4</td>\n",
       "      <td>BBDC4</td>\n",
       "      <td>GGBR4</td>\n",
       "    </tr>\n",
       "    <tr>\n",
       "      <th>2018-10-22</th>\n",
       "      <th>2018-11-16</th>\n",
       "      <td>ESTC3</td>\n",
       "      <td>BEEF3</td>\n",
       "      <td>AZUL4</td>\n",
       "      <td>BBDC4</td>\n",
       "      <td>GGBR4</td>\n",
       "    </tr>\n",
       "    <tr>\n",
       "      <th>2018-11-19</th>\n",
       "      <th>2018-12-19</th>\n",
       "      <td>ESTC3</td>\n",
       "      <td>BEEF3</td>\n",
       "      <td>AZUL4</td>\n",
       "      <td>CYRE3</td>\n",
       "      <td>PETR4</td>\n",
       "    </tr>\n",
       "    <tr>\n",
       "      <th>2018-12-20</th>\n",
       "      <th>2019-01-10</th>\n",
       "      <td>ESTC3</td>\n",
       "      <td>BEEF3</td>\n",
       "      <td>AZUL4</td>\n",
       "      <td>FLRY3</td>\n",
       "      <td>PETR4</td>\n",
       "    </tr>\n",
       "  </tbody>\n",
       "</table>\n",
       "</div>"
      ],
      "text/plain": [
       "                      ticker_1 ticker_2 ticker_3 ticker_4 ticker_5\n",
       "start      end                                                    \n",
       "2018-09-24 2018-10-05    ESTC3    BEEF3    RAPT4    BBDC4    PETR4\n",
       "2018-10-08 2018-10-19    ESTC3    BEEF3    RAPT4    BBDC4    GGBR4\n",
       "2018-10-22 2018-11-16    ESTC3    BEEF3    AZUL4    BBDC4    GGBR4\n",
       "2018-11-19 2018-12-19    ESTC3    BEEF3    AZUL4    CYRE3    PETR4\n",
       "2018-12-20 2019-01-10    ESTC3    BEEF3    AZUL4    FLRY3    PETR4"
      ]
     },
     "execution_count": 100,
     "metadata": {},
     "output_type": "execute_result"
    }
   ],
   "source": [
    "top5 = top5.set_index(['start', 'end'])\n",
    "\n",
    "top5.tail()"
   ]
  },
  {
   "cell_type": "code",
   "execution_count": 101,
   "metadata": {},
   "outputs": [],
   "source": [
    "starts = top5.index.get_level_values(0)\n",
    "ends = top5.index.get_level_values(1)\n",
    "\n",
    "returns_cc = []\n",
    "ibov_returns_cc = []\n",
    "ibrx_returns_cc = []\n",
    "risk_free_cc = []"
   ]
  },
  {
   "cell_type": "code",
   "execution_count": 102,
   "metadata": {},
   "outputs": [],
   "source": [
    "for _, row in top5.iterrows():\n",
    "    start = row.name[0]\n",
    "    end = row.name[1]\n",
    "    allocation = row.values\n",
    "\n",
    "    returns_cc.append( cc_returns.loc[start:end, allocation].sum().sum() / 5 )\n",
    "    \n",
    "    ibov_returns_cc.append( cc_returns.loc[start:end, 'ibov'].sum() )\n",
    "    \n",
    "    ibrx_returns_cc.append( cc_returns.loc[start:end, 'ibrx'].sum() )\n",
    "    \n",
    "    risk_free_cc.append( cc_risk_free.loc[start:end, 'cdi'].sum() )"
   ]
  },
  {
   "cell_type": "code",
   "execution_count": 103,
   "metadata": {},
   "outputs": [],
   "source": [
    "returns = np.exp(returns_cc) - 1\n",
    "cum_returns = np.exp(np.cumsum(returns_cc)) - 1\n",
    "\n",
    "ibov_returns = np.exp(ibov_returns_cc) - 1\n",
    "ibov_cum_returns = np.exp(np.cumsum(ibov_returns_cc)) - 1\n",
    "\n",
    "ibrx_returns = np.exp(ibrx_returns_cc) - 1\n",
    "ibrx_cum_returns = np.exp(np.cumsum(ibrx_returns_cc)) - 1\n",
    "\n",
    "cdi_returns = np.exp(risk_free_cc) - 1\n",
    "cdi_cum_returns = np.exp(np.cumsum(risk_free_cc)) - 1"
   ]
  },
  {
   "cell_type": "code",
   "execution_count": 104,
   "metadata": {},
   "outputs": [],
   "source": [
    "allocations = [ row.values for _, row in top5.iterrows() ]\n",
    "allocations = [ ' '.join(i) for i in allocations ]\n",
    "\n",
    "allocations = [\n",
    "    date + \", \" + allocation + \", \" + \"{0:.2%}\".format(ret)\n",
    "    for date, allocation, ret\n",
    "    in zip(ends.strftime(\"%Y-%m-%d\").tolist(), allocations, returns)\n",
    "]"
   ]
  },
  {
   "cell_type": "code",
   "execution_count": 105,
   "metadata": {},
   "outputs": [],
   "source": [
    "cum_allocations = [ row.values for _, row in top5.iterrows() ]\n",
    "cum_allocations = [ ' '.join(i) for i in cum_allocations ]\n",
    "\n",
    "cum_allocations = [\n",
    "    date + \", \" + cum_allocation + \", \" + \"{0:.2%}\".format(cum_ret)\n",
    "    for date, cum_allocation, cum_ret\n",
    "    in zip(ends.strftime(\"%Y-%m-%d\").tolist(), cum_allocations, cum_returns)\n",
    "]"
   ]
  },
  {
   "cell_type": "code",
   "execution_count": 106,
   "metadata": {},
   "outputs": [],
   "source": [
    "ibov_text = [\n",
    "    date + \", \" + \"{0:.2%}\".format(ret)\n",
    "    for date, ret\n",
    "    in zip(ends.strftime(\"%Y-%m-%d\").tolist(), ibov_returns)\n",
    "]"
   ]
  },
  {
   "cell_type": "code",
   "execution_count": 107,
   "metadata": {},
   "outputs": [],
   "source": [
    "cum_ibov_text = [\n",
    "    date + \", \" + \"{0:.2%}\".format(cum_ret)\n",
    "    for date, cum_ret\n",
    "    in zip(ends.strftime(\"%Y-%m-%d\").tolist(), ibov_cum_returns)\n",
    "]"
   ]
  },
  {
   "cell_type": "code",
   "execution_count": 108,
   "metadata": {},
   "outputs": [],
   "source": [
    "ibrx_text = [\n",
    "    date + \", \" + \"{0:.2%}\".format(ret)\n",
    "    for date, ret\n",
    "    in zip(ends.strftime(\"%Y-%m-%d\").tolist(), ibrx_returns)\n",
    "]"
   ]
  },
  {
   "cell_type": "code",
   "execution_count": 109,
   "metadata": {},
   "outputs": [],
   "source": [
    "cum_ibrx_text = [\n",
    "    date + \", \" + \"{0:.2%}\".format(cum_ret)\n",
    "    for date, cum_ret\n",
    "    in zip(ends.strftime(\"%Y-%m-%d\").tolist(), ibrx_cum_returns)\n",
    "]"
   ]
  },
  {
   "cell_type": "code",
   "execution_count": 110,
   "metadata": {},
   "outputs": [],
   "source": [
    "cum_cdi_text = [\n",
    "    date + \", \" + \"{0:.2%}\".format(cum_cdi)\n",
    "    for date, cum_cdi\n",
    "    in zip(ends.strftime(\"%Y-%m-%d\").tolist(), cdi_cum_returns)\n",
    "]"
   ]
  },
  {
   "cell_type": "code",
   "execution_count": 111,
   "metadata": {},
   "outputs": [],
   "source": [
    "# Add initial points for plotting\n",
    "ends = np.insert(ends, 0, starts[0])\n",
    "\n",
    "allocations = np.insert(allocations, 0, [starts[0].strftime(\"%Y-%m-%d\")])\n",
    "cum_allocations = np.insert(cum_allocations, 0, [starts[0].strftime(\"%Y-%m-%d\")])\n",
    "returns = np.insert(returns, 0, 0)\n",
    "cum_returns = np.insert(cum_returns, 0, 0)\n",
    "\n",
    "ibov_text = np.insert(ibov_text, 0, [starts[0].strftime(\"%Y-%m-%d\")])\n",
    "cum_ibov_text = np.insert(cum_ibov_text, 0, [starts[0].strftime(\"%Y-%m-%d\")])\n",
    "ibov_returns = np.insert(ibov_returns, 0, 0)\n",
    "ibov_cum_returns = np.insert(ibov_cum_returns, 0, 0)\n",
    "\n",
    "ibrx_text = np.insert(ibrx_text, 0, [starts[0].strftime(\"%Y-%m-%d\")])\n",
    "cum_ibrx_text = np.insert(cum_ibrx_text, 0, [starts[0].strftime(\"%Y-%m-%d\")])\n",
    "ibrx_returns = np.insert(ibrx_returns, 0, 0)\n",
    "ibrx_cum_returns = np.insert(ibrx_cum_returns, 0, 0)\n",
    "\n",
    "cum_cdi_text = np.insert(cum_cdi_text, 0, [starts[0].strftime(\"%Y-%m-%d\")])\n",
    "cdi_returns = np.insert(cdi_returns, 0, 0)\n",
    "cdi_cum_returns = np.insert(cdi_cum_returns, 0, 0)"
   ]
  },
  {
   "cell_type": "code",
   "execution_count": 112,
   "metadata": {},
   "outputs": [
    {
     "data": {
      "text/html": [
       "<iframe id=\"igraph\" scrolling=\"no\" style=\"border:none;\" seamless=\"seamless\" src=\"https://plot.ly/~raphaelrrcoelho/2.embed\" height=\"525px\" width=\"100%\"></iframe>"
      ],
      "text/plain": [
       "<plotly.tools.PlotlyDisplay object>"
      ]
     },
     "execution_count": 112,
     "metadata": {},
     "output_type": "execute_result"
    }
   ],
   "source": [
    "data = [\n",
    "    go.Scatter(\n",
    "        x = ends,\n",
    "        y = returns,\n",
    "        text = allocations,\n",
    "        hoverinfo = 'text',\n",
    "        marker = dict(\n",
    "            color = 'green'\n",
    "        ),\n",
    "        name='Top 5 Daily Returns'\n",
    "    ),\n",
    "    \n",
    "    go.Scatter(\n",
    "        x = ends,\n",
    "        y = ibov_returns,\n",
    "        text = ibov_text,\n",
    "        hoverinfo = 'text',\n",
    "        marker = dict(\n",
    "            color = 'blue'\n",
    "        ),\n",
    "        name='Ibov Daily Returns'\n",
    "    )\n",
    "]\n",
    "\n",
    "py.iplot(data, filename = \"top5_returns\")"
   ]
  },
  {
   "cell_type": "code",
   "execution_count": 113,
   "metadata": {},
   "outputs": [
    {
     "data": {
      "text/html": [
       "<iframe id=\"igraph\" scrolling=\"no\" style=\"border:none;\" seamless=\"seamless\" src=\"https://plot.ly/~raphaelrrcoelho/4.embed\" height=\"525px\" width=\"100%\"></iframe>"
      ],
      "text/plain": [
       "<plotly.tools.PlotlyDisplay object>"
      ]
     },
     "execution_count": 113,
     "metadata": {},
     "output_type": "execute_result"
    }
   ],
   "source": [
    "data = [\n",
    "    go.Scatter(\n",
    "        x = ends,\n",
    "        y = cum_returns,\n",
    "        text = cum_allocations,\n",
    "        hoverinfo = 'text',\n",
    "        marker = dict(\n",
    "            color = 'green'\n",
    "        ),\n",
    "        name='Top 5 Cumulative Returns'\n",
    "    ),\n",
    "    \n",
    "    go.Scatter(\n",
    "        x = ends,\n",
    "        y = ibov_cum_returns,\n",
    "        text = cum_ibov_text,\n",
    "        hoverinfo = 'text',\n",
    "        marker = dict(\n",
    "            color = 'blue'\n",
    "        ),\n",
    "        name='Ibov Cumulative Returns'\n",
    "    ),\n",
    "    go.Scatter(\n",
    "        x = ends,\n",
    "        y = ibrx_cum_returns,\n",
    "        text = cum_ibrx_text,\n",
    "        hoverinfo = 'text',\n",
    "        marker = dict(\n",
    "            color = 'yellow'\n",
    "        ),\n",
    "        name='Ibrx Cumulative Returns'\n",
    "    ),\n",
    "    go.Scatter(\n",
    "        x = ends,\n",
    "        y = cdi_cum_returns,\n",
    "        text = cum_cdi_text,\n",
    "        hoverinfo = 'text',\n",
    "        marker = dict(\n",
    "            color = 'red'\n",
    "        ),\n",
    "        name='CDI Cumulative Returns'\n",
    "    )\n",
    "]\n",
    "\n",
    "layout = dict(\n",
    "    title = \"Cumulative Returns\",\n",
    "    yaxis = dict(\n",
    "        tickformat= '.1%'\n",
    "    )\n",
    ")\n",
    "\n",
    "fig = go.Figure(data=data, layout=layout)\n",
    "py.iplot(fig, filename = \"top5_cumulative_returns\")"
   ]
  },
  {
   "cell_type": "markdown",
   "metadata": {},
   "source": [
    "#### Cumulative returns"
   ]
  },
  {
   "cell_type": "code",
   "execution_count": 157,
   "metadata": {},
   "outputs": [
    {
     "data": {
      "text/plain": [
       "'Top 5 cumulative return 285.58%'"
      ]
     },
     "execution_count": 157,
     "metadata": {},
     "output_type": "execute_result"
    }
   ],
   "source": [
    "# TOP5\n",
    "top5_cum_return = cum_returns.item(-1)\n",
    "\"Top 5 cumulative return {0:.2%}\".format(top5_cum_return)"
   ]
  },
  {
   "cell_type": "code",
   "execution_count": 156,
   "metadata": {},
   "outputs": [
    {
     "data": {
      "text/plain": [
       "'IBOV cumulative return 114.89%'"
      ]
     },
     "execution_count": 156,
     "metadata": {},
     "output_type": "execute_result"
    }
   ],
   "source": [
    "# IBOV\n",
    "ibov_cum_return = ibov_cum_returns.item(-1)\n",
    "\"IBOV cumulative return {0:.2%}\".format(ibov_cum_return)"
   ]
  },
  {
   "cell_type": "code",
   "execution_count": 155,
   "metadata": {},
   "outputs": [
    {
     "data": {
      "text/plain": [
       "'IBRX cumulative return 110.06%'"
      ]
     },
     "execution_count": 155,
     "metadata": {},
     "output_type": "execute_result"
    }
   ],
   "source": [
    "# IBRX\n",
    "ibrx_cum_return = ibrx_cum_returns.item(-1)\n",
    "\"IBRX cumulative return {0:.2%}\".format(ibrx_cum_return)"
   ]
  },
  {
   "cell_type": "code",
   "execution_count": 154,
   "metadata": {},
   "outputs": [
    {
     "data": {
      "text/plain": [
       "'CDI cumulative return 33.32%'"
      ]
     },
     "execution_count": 154,
     "metadata": {},
     "output_type": "execute_result"
    }
   ],
   "source": [
    "# CDI\n",
    "cdi_cum_return = cdi_cum_returns.item(-1)\n",
    "\"CDI cumulative return {0:.2%}\".format(cdi_cum_return)"
   ]
  },
  {
   "cell_type": "markdown",
   "metadata": {},
   "source": [
    "#### Annualized returns"
   ]
  },
  {
   "cell_type": "code",
   "execution_count": 118,
   "metadata": {},
   "outputs": [
    {
     "data": {
      "text/plain": [
       "799"
      ]
     },
     "execution_count": 118,
     "metadata": {},
     "output_type": "execute_result"
    }
   ],
   "source": [
    "n_days = cc_returns.shape[0]\n",
    "n_days"
   ]
  },
  {
   "cell_type": "code",
   "execution_count": 153,
   "metadata": {},
   "outputs": [
    {
     "data": {
      "text/plain": [
       "'Annualized Top 5 53.06%'"
      ]
     },
     "execution_count": 153,
     "metadata": {},
     "output_type": "execute_result"
    }
   ],
   "source": [
    "# TOP5\n",
    "annualized_top5_return = (1 + cum_returns.item(-1))** ( 252. / n_days) - 1\n",
    "\"Annualized Top 5 {0:.2%}\".format(annualized_top5_return)"
   ]
  },
  {
   "cell_type": "code",
   "execution_count": 152,
   "metadata": {},
   "outputs": [
    {
     "data": {
      "text/plain": [
       "'Annualized IBOV 27.28%'"
      ]
     },
     "execution_count": 152,
     "metadata": {},
     "output_type": "execute_result"
    }
   ],
   "source": [
    "# IBOV\n",
    "annualized_ibov_return = (1 + ibov_cum_returns.item(-1))** ( 252. / n_days) - 1\n",
    "\"Annualized IBOV {0:.2%}\".format(annualized_ibov_return)"
   ]
  },
  {
   "cell_type": "code",
   "execution_count": 151,
   "metadata": {},
   "outputs": [
    {
     "data": {
      "text/plain": [
       "'Annualized IBRX 26.38%'"
      ]
     },
     "execution_count": 151,
     "metadata": {},
     "output_type": "execute_result"
    }
   ],
   "source": [
    "# IBRX\n",
    "annualized_ibrx_return = (1 + ibrx_cum_returns.item(-1))** ( 252. / n_days) - 1\n",
    "\"Annualized IBRX {0:.2%}\".format(annualized_ibrx_return)"
   ]
  },
  {
   "cell_type": "code",
   "execution_count": 148,
   "metadata": {},
   "outputs": [
    {
     "data": {
      "text/plain": [
       "'Annualized CDI 9.49%'"
      ]
     },
     "execution_count": 148,
     "metadata": {},
     "output_type": "execute_result"
    }
   ],
   "source": [
    "# CDI\n",
    "annualized_cdi_return = (1 + cdi_cum_returns.item(-1))** ( 252. / n_days) - 1\n",
    "\"Annualized CDI {0:.2%}\".format(annualized_cdi_return)"
   ]
  },
  {
   "cell_type": "markdown",
   "metadata": {},
   "source": [
    "#### Risk Metrics"
   ]
  },
  {
   "cell_type": "code",
   "execution_count": 123,
   "metadata": {},
   "outputs": [
    {
     "name": "stdout",
     "output_type": "stream",
     "text": [
      "2015-12-30 00:00:00 2019-01-10 00:00:00\n"
     ]
    }
   ],
   "source": [
    "start = top5.index.get_level_values(0)[0]\n",
    "end = top5.index.get_level_values(1)[-1]\n",
    "\n",
    "date_index = pd.date_range(start, end, freq=CustomBusinessDay(holidays=br_holidays))\n",
    "print(start, end)"
   ]
  },
  {
   "cell_type": "code",
   "execution_count": 125,
   "metadata": {},
   "outputs": [],
   "source": [
    "period_cdi = risk_free.loc[start:end, 'cdi']"
   ]
  },
  {
   "cell_type": "code",
   "execution_count": 126,
   "metadata": {},
   "outputs": [],
   "source": [
    "period_ibov = cc_returns.loc[start:end, 'ibov']"
   ]
  },
  {
   "cell_type": "code",
   "execution_count": 127,
   "metadata": {},
   "outputs": [],
   "source": [
    "top5_daily_returns = []\n",
    "\n",
    "for _, row in top5.iterrows():\n",
    "    start = row.name[0]\n",
    "    end = row.name[1]\n",
    "    allocation = row.values\n",
    "    \n",
    "    current_date = start\n",
    "    \n",
    "    while current_date <= end:\n",
    "        top5_daily_returns.append( cc_returns.loc[current_date, allocation].sum() / 5 )\n",
    "        \n",
    "        current_date = current_date + CustomBusinessDay(1, holidays=br_holidays)"
   ]
  },
  {
   "cell_type": "code",
   "execution_count": 128,
   "metadata": {},
   "outputs": [],
   "source": [
    "top5_daily_returns = pd.Series(np.exp(top5_daily_returns) - 1)\n",
    "period_ibov = np.exp(period_ibov) - 1"
   ]
  },
  {
   "cell_type": "code",
   "execution_count": 129,
   "metadata": {},
   "outputs": [],
   "source": [
    "d = {\n",
    "    'top5': top5_daily_returns.values.tolist(),\n",
    "    'cdi': period_cdi.values.tolist(),\n",
    "    'ibov': period_ibov.values.tolist()\n",
    "}\n",
    "returns = pd.DataFrame(data = d, index=date_index)"
   ]
  },
  {
   "cell_type": "code",
   "execution_count": 130,
   "metadata": {},
   "outputs": [
    {
     "data": {
      "text/plain": [
       "0.0002047731528848022"
      ]
     },
     "execution_count": 130,
     "metadata": {},
     "output_type": "execute_result"
    }
   ],
   "source": [
    "# Covariance\n",
    "top5_ibov_cov = returns.cov().loc['top5', 'ibov']\n",
    "top5_ibov_cov"
   ]
  },
  {
   "cell_type": "code",
   "execution_count": 147,
   "metadata": {},
   "outputs": [
    {
     "name": "stdout",
     "output_type": "stream",
     "text": [
      "Top5 x Ibov Correl: 0.829107438541811\n"
     ]
    }
   ],
   "source": [
    "# Correlation\n",
    "top5_ibov_corr = returns.corr().loc['top5', 'ibov']\n",
    "print('Top5 x Ibov Correl:', top5_ibov_corr)"
   ]
  },
  {
   "cell_type": "code",
   "execution_count": 132,
   "metadata": {},
   "outputs": [
    {
     "name": "stdout",
     "output_type": "stream",
     "text": [
      "TOP5 Annualized Var: 0.07581229738227352\n",
      "IBOV Annualized Var: 0.051095874362583955\n"
     ]
    }
   ],
   "source": [
    "# Variance\n",
    "print(\"TOP5 Annualized Var: {}\".format(returns['top5'].var() * 252))\n",
    "print(\"IBOV Annualized Var: {}\".format(returns['ibov'].var() * 252))"
   ]
  },
  {
   "cell_type": "code",
   "execution_count": 133,
   "metadata": {},
   "outputs": [
    {
     "name": "stdout",
     "output_type": "stream",
     "text": [
      "TOP5 Annualized Std Dev: 27.534%\n",
      "IBOV Annualized Std Dev: 22.604%\n"
     ]
    }
   ],
   "source": [
    "# Annualized Std Deviation\n",
    "print(\"TOP5 Annualized Std Dev: {0:.3%}\".format(returns['top5'].std() * np.sqrt(252)))\n",
    "print(\"IBOV Annualized Std Dev: {0:.3%}\".format(returns['ibov'].std() * np.sqrt(252)))"
   ]
  },
  {
   "cell_type": "code",
   "execution_count": 134,
   "metadata": {},
   "outputs": [
    {
     "name": "stdout",
     "output_type": "stream",
     "text": [
      "TOP5 Annualized Tracking Error: 15.396%\n"
     ]
    }
   ],
   "source": [
    "# Tracking Error\n",
    "top5_ibov_tracking_error =  (returns['top5'] - returns['ibov']).std()\n",
    "print(\"TOP5 Annualized Tracking Error: {0:.3%}\".format(top5_ibov_tracking_error * np.sqrt(252)))"
   ]
  },
  {
   "cell_type": "code",
   "execution_count": 144,
   "metadata": {},
   "outputs": [
    {
     "name": "stdout",
     "output_type": "stream",
     "text": [
      "Beta: 1.009921743598881\n"
     ]
    }
   ],
   "source": [
    "# Beta\n",
    "top5_ibov_beta = top5_ibov_cov / returns['ibov'].var()\n",
    "print('Beta:', top5_ibov_beta)"
   ]
  },
  {
   "cell_type": "code",
   "execution_count": 145,
   "metadata": {},
   "outputs": [
    {
     "name": "stdout",
     "output_type": "stream",
     "text": [
      "Sharpe Ratio: 1.5821695323086031\n"
     ]
    }
   ],
   "source": [
    "# Sharpe\n",
    "sharpe_ratio = (annualized_top5_return - annualized_cdi_return) / (returns['top5'].std() * np.sqrt(252))\n",
    "print('Sharpe Ratio:', sharpe_ratio)"
   ]
  },
  {
   "cell_type": "code",
   "execution_count": 146,
   "metadata": {},
   "outputs": [
    {
     "name": "stdout",
     "output_type": "stream",
     "text": [
      "Information Ratio: 1.6740942279261386\n"
     ]
    }
   ],
   "source": [
    "# Information Ratio\n",
    "print('Information Ratio:', (annualized_top5_return - annualized_ibov_return) / (top5_ibov_tracking_error * np.sqrt(252)))"
   ]
  },
  {
   "cell_type": "markdown",
   "metadata": {},
   "source": [
    "### Itaú's Suggestion Effect"
   ]
  },
  {
   "cell_type": "code",
   "execution_count": 138,
   "metadata": {},
   "outputs": [],
   "source": [
    "windows = pd.DataFrame(columns=['mean_returns', 'skew_returns', 'kurtosis_returns', 'mean_volume_diff',  'skew_volume_diff'], index=range(0, 6))"
   ]
  },
  {
   "cell_type": "code",
   "execution_count": 139,
   "metadata": {},
   "outputs": [],
   "source": [
    "for i in range(0, 6):\n",
    "    initial_allocation = top5.iloc[0].values\n",
    "    \n",
    "    dates = []\n",
    "    new_stocks = []\n",
    "    new_returns = []\n",
    "    new_volumes = []\n",
    "\n",
    "    for _, row in top5.iterrows():\n",
    "        start = row.name[0]\n",
    "        end = row.name[1]\n",
    "        allocation = row.values\n",
    "\n",
    "        new_stock = np.setdiff1d(initial_allocation, allocation)\n",
    "\n",
    "        if new_stock.size > 0:\n",
    "            ns = np.setdiff1d(initial_allocation, allocation)[0]\n",
    "\n",
    "            dates.append(start + CustomBusinessDay(i, holidays=br_holidays))\n",
    "            new_stocks.append(ns)\n",
    "\n",
    "            new_returns.append( np.exp(cc_returns.loc[start + CustomBusinessDay(i, holidays=br_holidays), ns]) - 1 )\n",
    "\n",
    "            new_volumes.append( \n",
    "                volumes.loc[start + CustomBusinessDay(i, holidays=br_holidays), ns] / volumes.loc[start - CustomBusinessDay(1, holidays=br_holidays), ns]  - 1\n",
    "            )\n",
    "\n",
    "        initial_allocation = allocation\n",
    "    \n",
    "    d = { 'tickers': new_stocks, 'returns': new_returns, 'volumes_diff': new_volumes }\n",
    "    insertions = pd.DataFrame(data = d, index=dates)\n",
    "    \n",
    "    windows.loc[i , 'mean_returns'] = insertions.returns.mean()\n",
    "    windows.loc[i , 'skew_returns'] = insertions.returns.skew()\n",
    "    windows.loc[i , 'kurtosis_returns'] = insertions.returns.kurt()\n",
    "    windows.loc[i , 'mean_volume_diff'] = insertions.volumes_diff.mean()\n",
    "    windows.loc[i , 'skew_volume_diff'] = insertions.volumes_diff.skew()\n",
    "    #windows.loc[i , 'returns'] = insertions.returns.values"
   ]
  },
  {
   "cell_type": "code",
   "execution_count": 140,
   "metadata": {},
   "outputs": [
    {
     "data": {
      "text/html": [
       "<iframe id=\"igraph\" scrolling=\"no\" style=\"border:none;\" seamless=\"seamless\" src=\"https://plot.ly/~raphaelrrcoelho/6.embed\" height=\"525px\" width=\"100%\"></iframe>"
      ],
      "text/plain": [
       "<plotly.tools.PlotlyDisplay object>"
      ]
     },
     "execution_count": 140,
     "metadata": {},
     "output_type": "execute_result"
    }
   ],
   "source": [
    "data = [\n",
    "        go.Scatter(\n",
    "        x = list(range(0, 6)),\n",
    "        y = windows.mean_returns\n",
    "    )\n",
    "]\n",
    "\n",
    "layout = go.Layout(\n",
    "    title='Average Returns D+i After Itaú Suggestion',\n",
    "    xaxis=dict(title='D + i'),\n",
    "    yaxis=dict(\n",
    "        title='Average Return',\n",
    "        tickformat= '.1%'\n",
    "    )\n",
    ")\n",
    "\n",
    "\n",
    "fig = go.Figure(data=data, layout=layout)\n",
    "py.iplot(fig, filename='windows_mean_returns')"
   ]
  },
  {
   "cell_type": "code",
   "execution_count": 141,
   "metadata": {},
   "outputs": [
    {
     "data": {
      "text/html": [
       "<iframe id=\"igraph\" scrolling=\"no\" style=\"border:none;\" seamless=\"seamless\" src=\"https://plot.ly/~raphaelrrcoelho/8.embed\" height=\"525px\" width=\"100%\"></iframe>"
      ],
      "text/plain": [
       "<plotly.tools.PlotlyDisplay object>"
      ]
     },
     "execution_count": 141,
     "metadata": {},
     "output_type": "execute_result"
    }
   ],
   "source": [
    "data = [\n",
    "    go.Scatter(\n",
    "        x = list(range(0, 6)),\n",
    "        y = windows.skew_returns\n",
    "    )\n",
    "]\n",
    "\n",
    "layout = go.Layout(\n",
    "    title='Skewness of Returns D+i After Itaú Suggestion',\n",
    "    xaxis=dict(title='D + i'),\n",
    "    yaxis=dict(title='Skewness of Return')\n",
    ")\n",
    "\n",
    "\n",
    "fig = go.Figure(data=data, layout=layout)\n",
    "py.iplot(fig, filename='windows_skew_returns')"
   ]
  },
  {
   "cell_type": "code",
   "execution_count": 142,
   "metadata": {},
   "outputs": [
    {
     "data": {
      "text/html": [
       "<iframe id=\"igraph\" scrolling=\"no\" style=\"border:none;\" seamless=\"seamless\" src=\"https://plot.ly/~raphaelrrcoelho/10.embed\" height=\"525px\" width=\"100%\"></iframe>"
      ],
      "text/plain": [
       "<plotly.tools.PlotlyDisplay object>"
      ]
     },
     "execution_count": 142,
     "metadata": {},
     "output_type": "execute_result"
    }
   ],
   "source": [
    "data = [\n",
    "    go.Scatter(\n",
    "        x = list(range(0, 6)),\n",
    "        y = windows.mean_volume_diff\n",
    "    )\n",
    "]\n",
    "\n",
    "layout = go.Layout(\n",
    "    title='Average of Volume Diff D+i After Itaú Suggestion',\n",
    "    xaxis=dict(title='D + i'),\n",
    "    yaxis=dict(\n",
    "        title='Average Volume Diff',\n",
    "        tickformat= '.1%'\n",
    "    )\n",
    ")\n",
    "\n",
    "\n",
    "fig = go.Figure(data=data, layout=layout)\n",
    "py.iplot(fig, filename='windows_mean_volume_diff')"
   ]
  },
  {
   "cell_type": "code",
   "execution_count": 143,
   "metadata": {},
   "outputs": [
    {
     "data": {
      "text/html": [
       "<iframe id=\"igraph\" scrolling=\"no\" style=\"border:none;\" seamless=\"seamless\" src=\"https://plot.ly/~raphaelrrcoelho/12.embed\" height=\"525px\" width=\"100%\"></iframe>"
      ],
      "text/plain": [
       "<plotly.tools.PlotlyDisplay object>"
      ]
     },
     "execution_count": 143,
     "metadata": {},
     "output_type": "execute_result"
    }
   ],
   "source": [
    "data = [\n",
    "    go.Scatter(\n",
    "        x = list(range(0, 6)),\n",
    "        y = windows.skew_volume_diff\n",
    "    )\n",
    "]\n",
    "\n",
    "layout = go.Layout(\n",
    "    title='Skewness of Volume Diff D+i After Itaú Suggestion',\n",
    "    xaxis=dict(title='D + i'),\n",
    "    yaxis=dict(title='Skewness of Volume Diff')\n",
    ")\n",
    "\n",
    "\n",
    "fig = go.Figure(data=data, layout=layout)\n",
    "py.iplot(fig, filename='windows_skew_volume_diff')"
   ]
  },
  {
   "cell_type": "code",
   "execution_count": null,
   "metadata": {},
   "outputs": [],
   "source": []
  }
 ],
 "metadata": {
  "anaconda-cloud": {},
  "kernelspec": {
   "display_name": "Python 3",
   "language": "python",
   "name": "python3"
  },
  "language_info": {
   "codemirror_mode": {
    "name": "ipython",
    "version": 3
   },
   "file_extension": ".py",
   "mimetype": "text/x-python",
   "name": "python",
   "nbconvert_exporter": "python",
   "pygments_lexer": "ipython3",
   "version": "3.7.0"
  }
 },
 "nbformat": 4,
 "nbformat_minor": 2
}
